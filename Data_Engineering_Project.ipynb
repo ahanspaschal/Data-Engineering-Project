{
 "cells": [
  {
   "cell_type": "code",
   "execution_count": 0,
   "metadata": {
    "application/vnd.databricks.v1+cell": {
     "cellMetadata": {
      "byteLimit": 2048000,
      "rowLimit": 10000
     },
     "inputWidgets": {},
     "nuid": "24a75446-0ad4-429c-9d53-ef9fbd275149",
     "showTitle": false,
     "tableResultSettingsMap": {},
     "title": ""
    }
   },
   "outputs": [],
   "source": [
    "from pyspark.sql import functions as F\n",
    "\n"
   ]
  },
  {
   "cell_type": "code",
   "execution_count": 0,
   "metadata": {
    "application/vnd.databricks.v1+cell": {
     "cellMetadata": {
      "byteLimit": 2048000,
      "implicitDf": true,
      "rowLimit": 10000
     },
     "inputWidgets": {},
     "nuid": "985e1516-9847-4a29-a310-097618ab19e2",
     "showTitle": false,
     "tableResultSettingsMap": {},
     "title": ""
    }
   },
   "outputs": [],
   "source": [
    "%sql\n",
    "describe external location `data-zone`"
   ]
  },
  {
   "cell_type": "code",
   "execution_count": 0,
   "metadata": {
    "application/vnd.databricks.v1+cell": {
     "cellMetadata": {
      "byteLimit": 2048000,
      "rowLimit": 10000
     },
     "inputWidgets": {},
     "nuid": "353fed32-712f-460c-a911-665e5cff4b00",
     "showTitle": false,
     "tableResultSettingsMap": {},
     "title": ""
    }
   },
   "outputs": [],
   "source": [
    "base_dir_data = spark.sql(\"Describe external location `data-zone`\").select(\"url\").collect()[0][0]\n",
    "display(base_dir_data)"
   ]
  },
  {
   "cell_type": "code",
   "execution_count": 0,
   "metadata": {
    "application/vnd.databricks.v1+cell": {
     "cellMetadata": {
      "byteLimit": 2048000,
      "rowLimit": 10000
     },
     "inputWidgets": {},
     "nuid": "9d84fd6b-2035-4788-b5c3-2ba2362d9d62",
     "showTitle": false,
     "tableResultSettingsMap": {},
     "title": ""
    }
   },
   "outputs": [],
   "source": [
    "base_dir_checkpoint = spark.sql(\"Describe external location `checkpoint_zone`\").select(\"url\").collect()[0][0]\n",
    "display(base_dir_checkpoint)"
   ]
  },
  {
   "cell_type": "code",
   "execution_count": 0,
   "metadata": {
    "application/vnd.databricks.v1+cell": {
     "cellMetadata": {
      "byteLimit": 2048000,
      "rowLimit": 10000
     },
     "inputWidgets": {},
     "nuid": "c60a5d3d-a401-4033-b573-2124d07e7ed9",
     "showTitle": false,
     "tableResultSettingsMap": {},
     "title": ""
    }
   },
   "outputs": [],
   "source": [
    "Landing_zone = base_dir_data + \"/raw\"\n",
    "checkpoint_zone = base_dir_checkpoint + \"/checkpoints\"\n",
    "print(f\"Landing zone: {Landing_zone}\")\n",
    "print(f\"Checkpoint zone: {checkpoint_zone}\")"
   ]
  },
  {
   "cell_type": "code",
   "execution_count": 0,
   "metadata": {
    "application/vnd.databricks.v1+cell": {
     "cellMetadata": {
      "byteLimit": 2048000,
      "rowLimit": 10000
     },
     "inputWidgets": {},
     "nuid": "9c92f730-74f5-4c34-96e5-67bbe4368793",
     "showTitle": false,
     "tableResultSettingsMap": {},
     "title": ""
    }
   },
   "outputs": [],
   "source": [
    "db_name = \"sbit_db\"\n",
    "catalog = \"dev\"\n",
    "\n",
    "print(f\"Creating the database {catalog}.{db_name}...\", end='')\n",
    "spark.sql(f\"use {catalog}.{db_name}\")\n"
   ]
  },
  {
   "cell_type": "code",
   "execution_count": 0,
   "metadata": {
    "application/vnd.databricks.v1+cell": {
     "cellMetadata": {
      "byteLimit": 2048000,
      "rowLimit": 10000
     },
     "inputWidgets": {},
     "nuid": "1fe96478-7590-46d1-bd52-83f5a487e661",
     "showTitle": false,
     "tableResultSettingsMap": {},
     "title": ""
    }
   },
   "outputs": [],
   "source": [
    "print(f\"Creating users table...\", end='')\n",
    "spark.sql(f\"\"\"CREATE OR REPLACE TABLE {catalog}.{db_name}.users(\n",
    "    user_id bigint,\n",
    "    device_id bigint,\n",
    "    mac_address string,\n",
    "    registration_timestamp timestamp\n",
    "    )  \n",
    "    \"\"\") \n",
    "\n",
    "\n",
    "print(\"Done\")"
   ]
  },
  {
   "cell_type": "code",
   "execution_count": 0,
   "metadata": {
    "application/vnd.databricks.v1+cell": {
     "cellMetadata": {
      "byteLimit": 2048000,
      "rowLimit": 10000
     },
     "inputWidgets": {},
     "nuid": "a68e930b-6e1c-4530-96c0-0af366ccd660",
     "showTitle": false,
     "tableResultSettingsMap": {},
     "title": ""
    }
   },
   "outputs": [],
   "source": [
    "print(f\"Creating gym_logs table...\", end='')\n",
    "spark.sql(f\"\"\"CREATE OR REPLACE TABLE {catalog}.{db_name}.gym_logs(\n",
    "    mac_address string,\n",
    "    gym bigint,\n",
    "    login timestamp,\n",
    "    logout timestamp\n",
    "    )  \n",
    "    \"\"\")\n",
    "print(\"Done\")"
   ]
  },
  {
   "cell_type": "code",
   "execution_count": 0,
   "metadata": {
    "application/vnd.databricks.v1+cell": {
     "cellMetadata": {
      "byteLimit": 2048000,
      "rowLimit": 10000
     },
     "inputWidgets": {},
     "nuid": "0969a0fe-7e58-4e30-ada8-7b250360e503",
     "showTitle": false,
     "tableResultSettingsMap": {},
     "title": ""
    }
   },
   "outputs": [],
   "source": [
    "print(f\"Creating user_profile table...\", end='')\n",
    "spark.sql(f\"\"\"CREATE TABLE IF NOT EXISTS {catalog}.{db_name}.user_profile(\n",
    "    user_id bigint,\n",
    "    dob  DATE,\n",
    "    sex STRING,\n",
    "    first_name STRING,\n",
    "    last_name STRING,\n",
    "    street_address STRING,\n",
    "    city STRING,\n",
    "    state STRING,\n",
    "    zip INT,\n",
    "    updated TIMESTAMP)\n",
    "    \"\"\")\n",
    "print(\"Done\")"
   ]
  },
  {
   "cell_type": "code",
   "execution_count": 0,
   "metadata": {
    "application/vnd.databricks.v1+cell": {
     "cellMetadata": {
      "byteLimit": 2048000,
      "rowLimit": 10000
     },
     "inputWidgets": {},
     "nuid": "7407270d-fc95-463e-8849-8070fe6634f6",
     "showTitle": false,
     "tableResultSettingsMap": {},
     "title": ""
    }
   },
   "outputs": [],
   "source": [
    "print(f\"Creating heart_rate table...\", end='')\n",
    "spark.sql(f\"\"\"CREATE TABLE IF NOT EXISTS {catalog}.{db_name}.heart_rate(\n",
    "        device_id LONG, \n",
    "        time TIMESTAMP, \n",
    "        heartrate DOUBLE, \n",
    "        valid BOOLEAN)\n",
    "        \"\"\")\n",
    "print(\"Done\")"
   ]
  },
  {
   "cell_type": "code",
   "execution_count": 0,
   "metadata": {
    "application/vnd.databricks.v1+cell": {
     "cellMetadata": {
      "byteLimit": 2048000,
      "rowLimit": 10000
     },
     "inputWidgets": {},
     "nuid": "514f42ec-7296-4db2-85ed-be0018be3bfd",
     "showTitle": false,
     "tableResultSettingsMap": {},
     "title": ""
    }
   },
   "outputs": [],
   "source": [
    "print(f\"Creating user_bins table...\", end='')\n",
    "spark.sql(f\"\"\"CREATE TABLE IF NOT EXISTS {catalog}.{db_name}.user_bins(\n",
    "        user_id BIGINT, \n",
    "        age STRING, \n",
    "        gender STRING, \n",
    "        city STRING, \n",
    "        state STRING)\n",
    "        \"\"\")  \n",
    "print(\"Done\")"
   ]
  },
  {
   "cell_type": "code",
   "execution_count": 0,
   "metadata": {
    "application/vnd.databricks.v1+cell": {
     "cellMetadata": {
      "byteLimit": 2048000,
      "rowLimit": 10000
     },
     "inputWidgets": {},
     "nuid": "06169ba0-42e0-4aa2-bce1-6dc135609082",
     "showTitle": false,
     "tableResultSettingsMap": {},
     "title": ""
    }
   },
   "outputs": [],
   "source": [
    "print(f\"Creating workouts table...\", end='')\n",
    "spark.sql(f\"\"\"CREATE TABLE IF NOT EXISTS {catalog}.{db_name}.workouts(\n",
    "        user_id INT, \n",
    "        workout_id INT, \n",
    "        time TIMESTAMP, \n",
    "        action STRING, \n",
    "        session_id INT)\n",
    "        \"\"\")  \n",
    "print(\"Done\")"
   ]
  },
  {
   "cell_type": "code",
   "execution_count": 0,
   "metadata": {
    "application/vnd.databricks.v1+cell": {
     "cellMetadata": {
      "byteLimit": 2048000,
      "rowLimit": 10000
     },
     "inputWidgets": {},
     "nuid": "7592b955-1012-496c-963d-cd39458aa41b",
     "showTitle": false,
     "tableResultSettingsMap": {},
     "title": ""
    }
   },
   "outputs": [],
   "source": [
    "print(f\"Creating completed_workouts table...\", end='')\n",
    "spark.sql(f\"\"\"CREATE TABLE IF NOT EXISTS {catalog}.{db_name}.completed_workouts(\n",
    "        user_id INT, \n",
    "        workout_id INT, \n",
    "        session_id INT, \n",
    "        start_time TIMESTAMP, \n",
    "        end_time TIMESTAMP)\n",
    "        \"\"\")  \n",
    "print(\"Done\")"
   ]
  },
  {
   "cell_type": "code",
   "execution_count": 0,
   "metadata": {
    "application/vnd.databricks.v1+cell": {
     "cellMetadata": {
      "byteLimit": 2048000,
      "rowLimit": 10000
     },
     "inputWidgets": {},
     "nuid": "3eb6b9cd-622d-4c2d-b660-bfbdea0e2a27",
     "showTitle": false,
     "tableResultSettingsMap": {},
     "title": ""
    }
   },
   "outputs": [],
   "source": [
    "print(f\"Creating workout_bpm table...\", end='')\n",
    "spark.sql(f\"\"\"CREATE TABLE IF NOT EXISTS {catalog}.{db_name}.workout_bpm(\n",
    "        user_id INT, \n",
    "        workout_id INT, \n",
    "        session_id INT,\n",
    "        start_time TIMESTAMP, \n",
    "        end_time TIMESTAMP,\n",
    "        time TIMESTAMP, \n",
    "        heartrate DOUBLE)\n",
    "        \"\"\")  \n",
    "print(\"Done\")"
   ]
  },
  {
   "cell_type": "code",
   "execution_count": 0,
   "metadata": {
    "application/vnd.databricks.v1+cell": {
     "cellMetadata": {
      "byteLimit": 2048000,
      "rowLimit": 10000
     },
     "inputWidgets": {},
     "nuid": "a69dce12-3b6f-4753-bf5b-f8de0da8fb77",
     "showTitle": false,
     "tableResultSettingsMap": {},
     "title": ""
    }
   },
   "outputs": [],
   "source": [
    "print(f\"Creating date_lookup table...\", end='')\n",
    "spark.sql(f\"\"\"CREATE TABLE IF NOT EXISTS {catalog}.{db_name}.date_lookup(\n",
    "        date date, \n",
    "        week int, \n",
    "        year int, \n",
    "        month int, \n",
    "        dayofweek int, \n",
    "        dayofmonth int, \n",
    "        dayofyear int, \n",
    "        week_part string)\n",
    "        \"\"\")  \n",
    "print(\"Done\")"
   ]
  },
  {
   "cell_type": "code",
   "execution_count": 0,
   "metadata": {
    "application/vnd.databricks.v1+cell": {
     "cellMetadata": {},
     "inputWidgets": {},
     "nuid": "6ab34d09-ec2c-4558-8e5c-bd46ea071b80",
     "showTitle": false,
     "tableResultSettingsMap": {},
     "title": ""
    }
   },
   "outputs": [],
   "source": []
  }
 ],
 "metadata": {
  "application/vnd.databricks.v1+notebook": {
   "computePreferences": null,
   "dashboards": [],
   "environmentMetadata": {
    "base_environment": "",
    "environment_version": "2"
   },
   "inputWidgetPreferences": null,
   "language": "python",
   "notebookMetadata": {
    "mostRecentlyExecutedCommandWithImplicitDF": {
     "commandId": 7060072748927907,
     "dataframes": [
      "_sqldf"
     ]
    },
    "pythonIndentUnit": 4
   },
   "notebookName": "Data_Engineering_Project",
   "widgets": {}
  },
  "language_info": {
   "name": "python"
  }
 },
 "nbformat": 4,
 "nbformat_minor": 0
}
